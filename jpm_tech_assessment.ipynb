{
 "cells": [
  {
   "cell_type": "code",
   "execution_count": 1,
   "metadata": {},
   "outputs": [],
   "source": [
    "import pandas as pd\n",
    "import numpy as np\n",
    "\n",
    "from matplotlib import pyplot as plt\n",
    "import seaborn as sns\n",
    "%matplotlib inline\n",
    "\n",
    "pd.set_option('display.max_columns', None)"
   ]
  },
  {
   "attachments": {},
   "cell_type": "markdown",
   "metadata": {},
   "source": [
    "# 1. Data Prep"
   ]
  },
  {
   "attachments": {},
   "cell_type": "markdown",
   "metadata": {},
   "source": [
    "We'll load the data into a pandas dataframe. We rename the given variable names with names that are more descriptive.\n",
    "\n",
    "'mom_iq', 'mom_age_at_childbirth', and 'child_iq' are can reasonably be considered continuous-valued and are hence float-types, while 'mom_high_school' and 'mom_work_status' are boolean and categorical, respectively, which can be respresented by integers.\n",
    "\n",
    "It's easiest to load everything as floats, although we will want to transform 'mom_work_status' later so that it actually makes sense to use it in a regression model. Also, we are reducing the precision of 'mom_iq' from 12 decimals to 8 decimals, but for a variable whose range is at least 50, there's no need for 12 digits of precision."
   ]
  },
  {
   "cell_type": "code",
   "execution_count": 45,
   "metadata": {},
   "outputs": [
    {
     "name": "stdout",
     "output_type": "stream",
     "text": [
      "Value error on line labeled 0xC0. Skipping.\n"
     ]
    },
    {
     "data": {
      "text/html": [
       "<div>\n",
       "<style scoped>\n",
       "    .dataframe tbody tr th:only-of-type {\n",
       "        vertical-align: middle;\n",
       "    }\n",
       "\n",
       "    .dataframe tbody tr th {\n",
       "        vertical-align: top;\n",
       "    }\n",
       "\n",
       "    .dataframe thead th {\n",
       "        text-align: right;\n",
       "    }\n",
       "</style>\n",
       "<table border=\"1\" class=\"dataframe\">\n",
       "  <thead>\n",
       "    <tr style=\"text-align: right;\">\n",
       "      <th></th>\n",
       "      <th>mom_iq</th>\n",
       "      <th>mom_age_at_childbirth</th>\n",
       "      <th>mom_high_school</th>\n",
       "      <th>mom_work_status</th>\n",
       "      <th>child_iq</th>\n",
       "    </tr>\n",
       "  </thead>\n",
       "  <tbody>\n",
       "    <tr>\n",
       "      <th>0</th>\n",
       "      <td>121.117529</td>\n",
       "      <td>27.0</td>\n",
       "      <td>1.0</td>\n",
       "      <td>4.0</td>\n",
       "      <td>65.0</td>\n",
       "    </tr>\n",
       "    <tr>\n",
       "      <th>1</th>\n",
       "      <td>89.361882</td>\n",
       "      <td>25.0</td>\n",
       "      <td>1.0</td>\n",
       "      <td>4.0</td>\n",
       "      <td>98.0</td>\n",
       "    </tr>\n",
       "    <tr>\n",
       "      <th>2</th>\n",
       "      <td>115.443165</td>\n",
       "      <td>27.0</td>\n",
       "      <td>1.0</td>\n",
       "      <td>4.0</td>\n",
       "      <td>85.0</td>\n",
       "    </tr>\n",
       "    <tr>\n",
       "      <th>3</th>\n",
       "      <td>99.449639</td>\n",
       "      <td>25.0</td>\n",
       "      <td>1.0</td>\n",
       "      <td>3.0</td>\n",
       "      <td>83.0</td>\n",
       "    </tr>\n",
       "    <tr>\n",
       "      <th>4</th>\n",
       "      <td>92.745710</td>\n",
       "      <td>27.0</td>\n",
       "      <td>1.0</td>\n",
       "      <td>4.0</td>\n",
       "      <td>115.0</td>\n",
       "    </tr>\n",
       "  </tbody>\n",
       "</table>\n",
       "</div>"
      ],
      "text/plain": [
       "       mom_iq  mom_age_at_childbirth  mom_high_school  mom_work_status  \\\n",
       "0  121.117529                   27.0              1.0              4.0   \n",
       "1   89.361882                   25.0              1.0              4.0   \n",
       "2  115.443165                   27.0              1.0              4.0   \n",
       "3   99.449639                   25.0              1.0              3.0   \n",
       "4   92.745710                   27.0              1.0              4.0   \n",
       "\n",
       "   child_iq  \n",
       "0      65.0  \n",
       "1      98.0  \n",
       "2      85.0  \n",
       "3      83.0  \n",
       "4     115.0  "
      ]
     },
     "execution_count": 45,
     "metadata": {},
     "output_type": "execute_result"
    }
   ],
   "source": [
    "variable_dict = {'i': [], 'a': [], 'h': [], 'w': [], 'score': []}\n",
    "\n",
    "with open('data.txt', 'r') as file:\n",
    "    next(file)  # skip header line\n",
    "    for line in file:\n",
    "        chunks = line.replace('\\n', '').replace('\\'', '').split('|')  # [line number, variable, value]\n",
    "\n",
    "        try:\n",
    "            int(chunks[0]), float(chunks[2])  # check that line number and value are appropriate types\n",
    "        except ValueError:\n",
    "            print(f'Value error on line labeled {chunks[0]}. Skipping.')\n",
    "            continue\n",
    "\n",
    "        variable_dict[chunks[1]].append(float(chunks[2]))\n",
    "\n",
    "data = pd.DataFrame(variable_dict, index=list(range(len(variable_dict['i']))))\n",
    "\n",
    "data = data.rename(columns={\n",
    "    'i': 'mom_iq',\n",
    "    'a': 'mom_age_at_childbirth',\n",
    "    'h': 'mom_high_school',\n",
    "    'w': 'mom_work_status',\n",
    "    'score': 'child_iq'\n",
    "})\n",
    "\n",
    "data.head()"
   ]
  },
  {
   "cell_type": "code",
   "execution_count": 46,
   "metadata": {},
   "outputs": [
    {
     "name": "stdout",
     "output_type": "stream",
     "text": [
      "<class 'pandas.core.frame.DataFrame'>\n",
      "Int64Index: 434 entries, 0 to 433\n",
      "Data columns (total 5 columns):\n",
      " #   Column                 Non-Null Count  Dtype  \n",
      "---  ------                 --------------  -----  \n",
      " 0   mom_iq                 434 non-null    float64\n",
      " 1   mom_age_at_childbirth  434 non-null    float64\n",
      " 2   mom_high_school        434 non-null    float64\n",
      " 3   mom_work_status        434 non-null    float64\n",
      " 4   child_iq               434 non-null    float64\n",
      "dtypes: float64(5)\n",
      "memory usage: 20.3 KB\n"
     ]
    }
   ],
   "source": [
    "data.info(verbose=True, show_counts=True)"
   ]
  },
  {
   "attachments": {},
   "cell_type": "markdown",
   "metadata": {},
   "source": [
    "We don't have to worry about filling any NaNs."
   ]
  },
  {
   "attachments": {},
   "cell_type": "markdown",
   "metadata": {},
   "source": [
    "# 2. Data Transformation "
   ]
  },
  {
   "attachments": {},
   "cell_type": "markdown",
   "metadata": {},
   "source": [
    "We need to transform 'mom_work_status' because there's no sense in which e.g. status=4 has twice the value of status=2. We'll one-hot encode this variable."
   ]
  },
  {
   "cell_type": "code",
   "execution_count": 50,
   "metadata": {},
   "outputs": [
    {
     "data": {
      "text/html": [
       "<div>\n",
       "<style scoped>\n",
       "    .dataframe tbody tr th:only-of-type {\n",
       "        vertical-align: middle;\n",
       "    }\n",
       "\n",
       "    .dataframe tbody tr th {\n",
       "        vertical-align: top;\n",
       "    }\n",
       "\n",
       "    .dataframe thead th {\n",
       "        text-align: right;\n",
       "    }\n",
       "</style>\n",
       "<table border=\"1\" class=\"dataframe\">\n",
       "  <thead>\n",
       "    <tr style=\"text-align: right;\">\n",
       "      <th></th>\n",
       "      <th>mom_iq</th>\n",
       "      <th>mom_age_at_childbirth</th>\n",
       "      <th>mom_high_school</th>\n",
       "      <th>child_iq</th>\n",
       "      <th>mom_work_status_1</th>\n",
       "      <th>mom_work_status_2</th>\n",
       "      <th>mom_work_status_3</th>\n",
       "      <th>mom_work_status_4</th>\n",
       "    </tr>\n",
       "  </thead>\n",
       "  <tbody>\n",
       "    <tr>\n",
       "      <th>0</th>\n",
       "      <td>121.117529</td>\n",
       "      <td>27.0</td>\n",
       "      <td>1</td>\n",
       "      <td>65.0</td>\n",
       "      <td>0</td>\n",
       "      <td>0</td>\n",
       "      <td>0</td>\n",
       "      <td>1</td>\n",
       "    </tr>\n",
       "    <tr>\n",
       "      <th>1</th>\n",
       "      <td>89.361882</td>\n",
       "      <td>25.0</td>\n",
       "      <td>1</td>\n",
       "      <td>98.0</td>\n",
       "      <td>0</td>\n",
       "      <td>0</td>\n",
       "      <td>0</td>\n",
       "      <td>1</td>\n",
       "    </tr>\n",
       "    <tr>\n",
       "      <th>2</th>\n",
       "      <td>115.443165</td>\n",
       "      <td>27.0</td>\n",
       "      <td>1</td>\n",
       "      <td>85.0</td>\n",
       "      <td>0</td>\n",
       "      <td>0</td>\n",
       "      <td>0</td>\n",
       "      <td>1</td>\n",
       "    </tr>\n",
       "    <tr>\n",
       "      <th>3</th>\n",
       "      <td>99.449639</td>\n",
       "      <td>25.0</td>\n",
       "      <td>1</td>\n",
       "      <td>83.0</td>\n",
       "      <td>0</td>\n",
       "      <td>0</td>\n",
       "      <td>1</td>\n",
       "      <td>0</td>\n",
       "    </tr>\n",
       "    <tr>\n",
       "      <th>4</th>\n",
       "      <td>92.745710</td>\n",
       "      <td>27.0</td>\n",
       "      <td>1</td>\n",
       "      <td>115.0</td>\n",
       "      <td>0</td>\n",
       "      <td>0</td>\n",
       "      <td>0</td>\n",
       "      <td>1</td>\n",
       "    </tr>\n",
       "  </tbody>\n",
       "</table>\n",
       "</div>"
      ],
      "text/plain": [
       "       mom_iq  mom_age_at_childbirth  mom_high_school  child_iq  \\\n",
       "0  121.117529                   27.0                1      65.0   \n",
       "1   89.361882                   25.0                1      98.0   \n",
       "2  115.443165                   27.0                1      85.0   \n",
       "3   99.449639                   25.0                1      83.0   \n",
       "4   92.745710                   27.0                1     115.0   \n",
       "\n",
       "   mom_work_status_1  mom_work_status_2  mom_work_status_3  mom_work_status_4  \n",
       "0                  0                  0                  0                  1  \n",
       "1                  0                  0                  0                  1  \n",
       "2                  0                  0                  0                  1  \n",
       "3                  0                  0                  1                  0  \n",
       "4                  0                  0                  0                  1  "
      ]
     },
     "execution_count": 50,
     "metadata": {},
     "output_type": "execute_result"
    }
   ],
   "source": [
    "data[['mom_high_school', 'mom_work_status']] = data[['mom_high_school', 'mom_work_status']].astype(int)\n",
    "\n",
    "data = pd.get_dummies(data, columns=['mom_work_status'], prefix='mom_work_status')\n",
    "data.head()"
   ]
  },
  {
   "attachments": {},
   "cell_type": "markdown",
   "metadata": {},
   "source": [
    "I would consider data normalization to be part of this section, but we'll save that for after the EDA because we need to see the variables' distributions before e.g. dropping outliers."
   ]
  },
  {
   "attachments": {},
   "cell_type": "markdown",
   "metadata": {},
   "source": [
    "# 3. EDA"
   ]
  },
  {
   "attachments": {},
   "cell_type": "markdown",
   "metadata": {},
   "source": [
    "Let's visualize the variable distributions:"
   ]
  },
  {
   "cell_type": "code",
   "execution_count": 63,
   "metadata": {},
   "outputs": [
    {
     "data": {
      "image/png": "[encoded data removed]",
      "text/plain": [
       "<Figure size 1152x576 with 8 Axes>"
      ]
     },
     "metadata": {
      "needs_background": "light"
     },
     "output_type": "display_data"
    }
   ],
   "source": [
    "data.hist(figsize=(16, 8), bins=25, layout=(2,4), xlabelsize=8, ylabelsize=8);"
   ]
  },
  {
   "attachments": {},
   "cell_type": "markdown",
   "metadata": {},
   "source": [
    "The numerical variables are relatively Gaussian-distributed, which justifies using standardization on them. The boolean variables are mostly somewhat imbalanced, which is to be expected after one-hot encoding, but they still each have significant representation.\n",
    "\n",
    "Now we'll visualize single-variable relationships with the dependent variable.\n",
    "\n",
    "First with the numerical independent variables:"
   ]
  },
  {
   "cell_type": "code",
   "execution_count": 69,
   "metadata": {},
   "outputs": [
    {
     "data": {
      "image/png": "[encoded data removed]",
      "text/plain": [
       "<Figure size 360x180 with 2 Axes>"
      ]
     },
     "metadata": {
      "needs_background": "light"
     },
     "output_type": "display_data"
    }
   ],
   "source": [
    "sns.pairplot(\n",
    "    data=data,\n",
    "    x_vars=['mom_iq', 'mom_age_at_childbirth'],\n",
    "    y_vars=['child_iq']\n",
    ");"
   ]
  },
  {
   "attachments": {},
   "cell_type": "markdown",
   "metadata": {},
   "source": [
    "And now with the boolean independent variables:"
   ]
  },
  {
   "cell_type": "code",
   "execution_count": 90,
   "metadata": {},
   "outputs": [
    {
     "data": {
      "image/png": "[encoded data removed]",
      "text/plain": [
       "<Figure size 1800x288 with 5 Axes>"
      ]
     },
     "metadata": {
      "needs_background": "light"
     },
     "output_type": "display_data"
    }
   ],
   "source": [
    "_, axs = plt.subplots(1, 5, figsize=(25,4))\n",
    "for idx, cat_var in enumerate(['mom_high_school'] + ['mom_work_status_'+str(i) for i in range(1,5)]): \n",
    "    sns.boxplot(\n",
    "        ax=axs[idx],\n",
    "        data=data,\n",
    "        x=cat_var, \n",
    "        y='child_iq', \n",
    "    );"
   ]
  },
  {
   "attachments": {},
   "cell_type": "markdown",
   "metadata": {},
   "source": [
    "A child_iq of either 20 or 140+ seems to be outlying in several boolean-numerical input-output plots, as well as somewhat qualitatively-outlying in the numerical-numerical input-output plots. Let's drop those two data points. "
   ]
  },
  {
   "cell_type": "code",
   "execution_count": null,
   "metadata": {},
   "outputs": [],
   "source": []
  },
  {
   "cell_type": "code",
   "execution_count": 95,
   "metadata": {},
   "outputs": [
    {
     "data": {
      "image/png": "[encoded data removed]",
      "text/plain": [
       "<Figure size 432x288 with 2 Axes>"
      ]
     },
     "metadata": {
      "needs_background": "light"
     },
     "output_type": "display_data"
    }
   ],
   "source": [
    "corr = data[['mom_iq', 'mom_age_at_childbirth', 'child_iq']].corr()\n",
    "\n",
    "sns.heatmap(corr, cmap='viridis', vmax=1.0, vmin=-1.0, annot=True);"
   ]
  },
  {
   "cell_type": "code",
   "execution_count": null,
   "metadata": {},
   "outputs": [],
   "source": []
  }
 ],
 "metadata": {
  "kernelspec": {
   "display_name": "base",
   "language": "python",
   "name": "python3"
  },
  "language_info": {
   "codemirror_mode": {
    "name": "ipython",
    "version": 3
   },
   "file_extension": ".py",
   "mimetype": "text/x-python",
   "name": "python",
   "nbconvert_exporter": "python",
   "pygments_lexer": "ipython3",
   "version": "3.8.8"
  },
  "orig_nbformat": 4,
  "vscode": {
   "interpreter": {
    "hash": "0cc63468932b3bcc091f788b07b79be66df945f41445c374889bc8bea42dc111"
   }
  }
 },
 "nbformat": 4,
 "nbformat_minor": 2
}
